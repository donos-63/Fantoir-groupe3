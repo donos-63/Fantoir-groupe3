{
 "metadata": {
  "language_info": {
   "codemirror_mode": {
    "name": "ipython",
    "version": 3
   },
   "file_extension": ".py",
   "mimetype": "text/x-python",
   "name": "python",
   "nbconvert_exporter": "python",
   "pygments_lexer": "ipython3",
   "version": "3.7.9-final"
  },
  "orig_nbformat": 2,
  "kernelspec": {
   "name": "python3",
   "display_name": "Python 3"
  }
 },
 "nbformat": 4,
 "nbformat_minor": 2,
 "cells": [
  {
   "cell_type": "code",
   "execution_count": 1,
   "metadata": {},
   "outputs": [],
   "source": [
    "import pandas as pd"
   ]
  },
  {
   "cell_type": "code",
   "execution_count": 2,
   "metadata": {},
   "outputs": [
    {
     "output_type": "execute_result",
     "data": {
      "text/plain": [
       "                   id id_fantoir  numero  rep          nom_voie  code_postal  \\\n",
       "0  63004_pybw0g_00001        NaN       1  NaN  Allee des Sports        63770   \n",
       "1  63004_pybw0g_00002        NaN       2  NaN  Allee des Sports        63770   \n",
       "2  63004_pybw0g_00003        NaN       3  NaN  Allee des Sports        63770   \n",
       "3  63004_pybw0g_00004        NaN       4  NaN  Allee des Sports        63770   \n",
       "4  63004_pybw0g_00005        NaN       5  NaN  Allee des Sports        63770   \n",
       "\n",
       "   code_insee        nom_commune  code_insee_ancienne_commune  \\\n",
       "0       63004  Les Ancizes-Comps                          NaN   \n",
       "1       63004  Les Ancizes-Comps                          NaN   \n",
       "2       63004  Les Ancizes-Comps                          NaN   \n",
       "3       63004  Les Ancizes-Comps                          NaN   \n",
       "4       63004  Les Ancizes-Comps                          NaN   \n",
       "\n",
       "  nom_ancienne_commune          x           y       lon        lat  alias  \\\n",
       "0                  NaN  685741.77  6536059.86  2.816022  45.924083    NaN   \n",
       "1                  NaN  685734.60  6536175.26  2.815926  45.925122    NaN   \n",
       "2                  NaN  685670.82  6536009.27  2.815108  45.923626    NaN   \n",
       "3                  NaN  685739.12  6536151.48  2.815985  45.924908    NaN   \n",
       "4                  NaN  685645.69  6536003.78  2.814784  45.923576    NaN   \n",
       "\n",
       "   nom_ld libelle_acheminement         nom_afnor source_position  \\\n",
       "0     NaN    LES ANCIZES COMPS  ALLEE DES SPORTS        inconnue   \n",
       "1     NaN    LES ANCIZES COMPS  ALLEE DES SPORTS        inconnue   \n",
       "2     NaN    LES ANCIZES COMPS  ALLEE DES SPORTS        inconnue   \n",
       "3     NaN    LES ANCIZES COMPS  ALLEE DES SPORTS        inconnue   \n",
       "4     NaN    LES ANCIZES COMPS  ALLEE DES SPORTS        inconnue   \n",
       "\n",
       "  source_nom_voie  \n",
       "0        inconnue  \n",
       "1        inconnue  \n",
       "2        inconnue  \n",
       "3        inconnue  \n",
       "4        inconnue  "
      ],
      "text/html": "<div>\n<style scoped>\n    .dataframe tbody tr th:only-of-type {\n        vertical-align: middle;\n    }\n\n    .dataframe tbody tr th {\n        vertical-align: top;\n    }\n\n    .dataframe thead th {\n        text-align: right;\n    }\n</style>\n<table border=\"1\" class=\"dataframe\">\n  <thead>\n    <tr style=\"text-align: right;\">\n      <th></th>\n      <th>id</th>\n      <th>id_fantoir</th>\n      <th>numero</th>\n      <th>rep</th>\n      <th>nom_voie</th>\n      <th>code_postal</th>\n      <th>code_insee</th>\n      <th>nom_commune</th>\n      <th>code_insee_ancienne_commune</th>\n      <th>nom_ancienne_commune</th>\n      <th>x</th>\n      <th>y</th>\n      <th>lon</th>\n      <th>lat</th>\n      <th>alias</th>\n      <th>nom_ld</th>\n      <th>libelle_acheminement</th>\n      <th>nom_afnor</th>\n      <th>source_position</th>\n      <th>source_nom_voie</th>\n    </tr>\n  </thead>\n  <tbody>\n    <tr>\n      <th>0</th>\n      <td>63004_pybw0g_00001</td>\n      <td>NaN</td>\n      <td>1</td>\n      <td>NaN</td>\n      <td>Allee des Sports</td>\n      <td>63770</td>\n      <td>63004</td>\n      <td>Les Ancizes-Comps</td>\n      <td>NaN</td>\n      <td>NaN</td>\n      <td>685741.77</td>\n      <td>6536059.86</td>\n      <td>2.816022</td>\n      <td>45.924083</td>\n      <td>NaN</td>\n      <td>NaN</td>\n      <td>LES ANCIZES COMPS</td>\n      <td>ALLEE DES SPORTS</td>\n      <td>inconnue</td>\n      <td>inconnue</td>\n    </tr>\n    <tr>\n      <th>1</th>\n      <td>63004_pybw0g_00002</td>\n      <td>NaN</td>\n      <td>2</td>\n      <td>NaN</td>\n      <td>Allee des Sports</td>\n      <td>63770</td>\n      <td>63004</td>\n      <td>Les Ancizes-Comps</td>\n      <td>NaN</td>\n      <td>NaN</td>\n      <td>685734.60</td>\n      <td>6536175.26</td>\n      <td>2.815926</td>\n      <td>45.925122</td>\n      <td>NaN</td>\n      <td>NaN</td>\n      <td>LES ANCIZES COMPS</td>\n      <td>ALLEE DES SPORTS</td>\n      <td>inconnue</td>\n      <td>inconnue</td>\n    </tr>\n    <tr>\n      <th>2</th>\n      <td>63004_pybw0g_00003</td>\n      <td>NaN</td>\n      <td>3</td>\n      <td>NaN</td>\n      <td>Allee des Sports</td>\n      <td>63770</td>\n      <td>63004</td>\n      <td>Les Ancizes-Comps</td>\n      <td>NaN</td>\n      <td>NaN</td>\n      <td>685670.82</td>\n      <td>6536009.27</td>\n      <td>2.815108</td>\n      <td>45.923626</td>\n      <td>NaN</td>\n      <td>NaN</td>\n      <td>LES ANCIZES COMPS</td>\n      <td>ALLEE DES SPORTS</td>\n      <td>inconnue</td>\n      <td>inconnue</td>\n    </tr>\n    <tr>\n      <th>3</th>\n      <td>63004_pybw0g_00004</td>\n      <td>NaN</td>\n      <td>4</td>\n      <td>NaN</td>\n      <td>Allee des Sports</td>\n      <td>63770</td>\n      <td>63004</td>\n      <td>Les Ancizes-Comps</td>\n      <td>NaN</td>\n      <td>NaN</td>\n      <td>685739.12</td>\n      <td>6536151.48</td>\n      <td>2.815985</td>\n      <td>45.924908</td>\n      <td>NaN</td>\n      <td>NaN</td>\n      <td>LES ANCIZES COMPS</td>\n      <td>ALLEE DES SPORTS</td>\n      <td>inconnue</td>\n      <td>inconnue</td>\n    </tr>\n    <tr>\n      <th>4</th>\n      <td>63004_pybw0g_00005</td>\n      <td>NaN</td>\n      <td>5</td>\n      <td>NaN</td>\n      <td>Allee des Sports</td>\n      <td>63770</td>\n      <td>63004</td>\n      <td>Les Ancizes-Comps</td>\n      <td>NaN</td>\n      <td>NaN</td>\n      <td>685645.69</td>\n      <td>6536003.78</td>\n      <td>2.814784</td>\n      <td>45.923576</td>\n      <td>NaN</td>\n      <td>NaN</td>\n      <td>LES ANCIZES COMPS</td>\n      <td>ALLEE DES SPORTS</td>\n      <td>inconnue</td>\n      <td>inconnue</td>\n    </tr>\n  </tbody>\n</table>\n</div>"
     },
     "metadata": {},
     "execution_count": 2
    }
   ],
   "source": [
    "df = pd.read_csv('data/adresses-63.csv', sep=';')\n",
    "df.head()"
   ]
  },
  {
   "cell_type": "code",
   "execution_count": 14,
   "metadata": {},
   "outputs": [],
   "source": [
    "dup = df.id.duplicated()"
   ]
  }
 ]
}